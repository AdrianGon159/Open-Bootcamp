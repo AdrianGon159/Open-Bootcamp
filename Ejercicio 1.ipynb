{
 "cells": [
  {
   "cell_type": "code",
   "execution_count": 2,
   "id": "46cec9b0",
   "metadata": {},
   "outputs": [
    {
     "name": "stdout",
     "output_type": "stream",
     "text": [
      "Hola, soy Adrian\n",
      "Estoy empezando el curso de python\n",
      "Espero aprender mucho\n"
     ]
    }
   ],
   "source": [
    "print(\"Hola, soy Adrian\")\n",
    "print(\"Estoy empezando el curso de python\")\n",
    "print(\"Espero aprender mucho\")\n"
   ]
  },
  {
   "cell_type": "code",
   "execution_count": null,
   "id": "92c3f279",
   "metadata": {},
   "outputs": [],
   "source": []
  }
 ],
 "metadata": {
  "kernelspec": {
   "display_name": "Python 3",
   "language": "python",
   "name": "python3"
  },
  "language_info": {
   "codemirror_mode": {
    "name": "ipython",
    "version": 3
   },
   "file_extension": ".py",
   "mimetype": "text/x-python",
   "name": "python",
   "nbconvert_exporter": "python",
   "pygments_lexer": "ipython3",
   "version": "3.8.8"
  }
 },
 "nbformat": 4,
 "nbformat_minor": 5
}
